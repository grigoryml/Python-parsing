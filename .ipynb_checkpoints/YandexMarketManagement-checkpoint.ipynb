{
 "cells": [
  {
   "cell_type": "code",
   "execution_count": 172,
   "metadata": {},
   "outputs": [],
   "source": [
    "import re\n",
    "m = re.compile('(?<=text=)([^\\t,&]+)')\n",
    "output_filename = os.path.normpath(\"/Users/bigyoyo/Downloads/log-test.csv\")\n",
    "with open(output_filename, \"w\") as out_file:\n",
    "    out_file.write(\"\")             \n",
    "with open(output_filename, \"a\") as out_file:\n",
    "    with open(\"/Users/bigyoyo/Downloads/log.csv\", \"r\") as in_file:\n",
    "        i = 0\n",
    "        for line in in_file:\n",
    "            if m.findall(line) != []:\n",
    "                for item in m.findall(line):\n",
    "                    out_file.write(\"%s\\n\" % item)\n",
    "#close file"
   ]
  }
 ],
 "metadata": {
  "kernelspec": {
   "display_name": "Python 3",
   "language": "python",
   "name": "python3"
  },
  "language_info": {
   "codemirror_mode": {
    "name": "ipython",
    "version": 3
   },
   "file_extension": ".py",
   "mimetype": "text/x-python",
   "name": "python",
   "nbconvert_exporter": "python",
   "pygments_lexer": "ipython3",
   "version": "3.6.4"
  }
 },
 "nbformat": 4,
 "nbformat_minor": 2
}
