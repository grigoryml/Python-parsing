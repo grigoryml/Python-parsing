{
 "cells": [
  {
   "cell_type": "code",
   "execution_count": 172,
   "metadata": {},
   "outputs": [],
   "source": [
    "m = re.compile('(?<=text=)([^\\t,&]+)')\n",
    "output_filename = os.path.normpath(\"/Users/bigyoyo/Downloads/log-test.csv\")\n",
    "with open(output_filename, \"w\") as out_file:\n",
    "    out_file.write(\"\")             \n",
    "with open(output_filename, \"a\") as out_file:\n",
    "    with open(\"/Users/bigyoyo/Downloads/log.csv\", \"r\") as in_file:\n",
    "        i = 0\n",
    "        for line in in_file:\n",
    "            if m.findall(line) != []:\n",
    "                for item in m.findall(line):\n",
    "                    out_file.write(\"%s\\n\" % item)"
   ]
  },
  {
   "cell_type": "code",
   "execution_count": null,
   "metadata": {},
   "outputs": [],
   "source": []
  },
  {
   "cell_type": "code",
   "execution_count": 161,
   "metadata": {},
   "outputs": [],
   "source": []
  },
  {
   "cell_type": "code",
   "execution_count": 98,
   "metadata": {},
   "outputs": [
    {
     "name": "stdout",
     "output_type": "stream",
     "text": [
      "timestamp\tdatetime\tdevice\tnumdoc\tregion\trequest\turls\n",
      "\n",
      "1520974800\t2018-03-14 00:00\tdesktop\t317731505\t6\thttps://yandex.ru/search/?text=порно видео секс за деньги\thttp://porno-sex-video.com/eroticheskie-filmy-onlayn/porno-seks-za-dengi/;http://14b.info/money/;http://sexvideobomba.net/tags/seks-za-dengi/\n",
      "\n",
      "1520974800\t2018-03-14 00:00\tdesktop\t277053268\t191\thttps://yandex.ru/search/?text=sad story скачать бесплатно mp3 в хорошем качестве&rl=416\thttp://mp3party.net/music/8507899;http://muz-color.ru/?s=Sad+Story+%28Out+Of+Luck%29;https://muzofond.org/search/merk%20kremont%20sad%20story\n",
      "\n",
      "1520974800\t2018-03-14 00:00\ttouch\t19987730\t2\thttps://yandex.ru/search/?text=ольгино баня&flag=l6707\thttp://www.bani.spb.ru/olgino.html;https://sauna.spb.ru/olgino.html;https://spb.hipdir.com/banya-olgino/\n",
      "\n"
     ]
    }
   ],
   "source": [
    "output_filename = os.path.normpath(\"/Users/bigyoyo/Downloads/log-test.csv\")\n",
    "with open(output_filename, \"w\") as out_file:\n",
    "    out_file.write(\"\")             \n",
    "with open(output_filename, \"a\") as out_file:\n",
    "    with open(\"/Users/bigyoyo/Downloads/log.csv\", \"r\") as in_file:\n",
    "        i = 0\n",
    "        for line in in_file:\n",
    "                out_file.write(line)\n",
    "                print(line)\n",
    "                i += 1\n",
    "                if (i > 3):\n",
    "                    break"
   ]
  },
  {
   "cell_type": "code",
   "execution_count": 108,
   "metadata": {},
   "outputs": [
    {
     "name": "stdout",
     "output_type": "stream",
     "text": [
      "['порно видео секс за деньги']\n"
     ]
    }
   ],
   "source": [
    "pattern = re.compile('(?<=text=)([^\\t]+)')\n",
    "result = pattern.findall('1520974800\t2018-03-14 00:00\tdesktop\t317731505\t6\thttps://yandex.ru/search/?text=порно видео секс за деньги\thttp://porno-sex-video.com/eroticheskie-filmy-onlayn/porno-seks-za-dengi/;http://14b.info/money/;http://sexvideobomba.net/tags/seks-za-dengi/')\n",
    "print (result)"
   ]
  },
  {
   "cell_type": "code",
   "execution_count": null,
   "metadata": {},
   "outputs": [],
   "source": []
  },
  {
   "cell_type": "code",
   "execution_count": null,
   "metadata": {},
   "outputs": [],
   "source": []
  }
 ],
 "metadata": {
  "kernelspec": {
   "display_name": "Python 3",
   "language": "python",
   "name": "python3"
  },
  "language_info": {
   "codemirror_mode": {
    "name": "ipython",
    "version": 3
   },
   "file_extension": ".py",
   "mimetype": "text/x-python",
   "name": "python",
   "nbconvert_exporter": "python",
   "pygments_lexer": "ipython3",
   "version": "3.6.4"
  }
 },
 "nbformat": 4,
 "nbformat_minor": 2
}
