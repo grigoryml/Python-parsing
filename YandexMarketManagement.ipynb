{
 "cells": [
  {
   "cell_type": "code",
   "execution_count": 172,
   "metadata": {},
   "outputs": [],
   "source": [
    "m = re.compile('(?<=text=)([^\\t,&]+)')\n",
    "output_filename = os.path.normpath(\"/Users/bigyoyo/Downloads/log-test.csv\")\n",
    "with open(output_filename, \"w\") as out_file:\n",
    "    out_file.write(\"\")             \n",
    "with open(output_filename, \"a\") as out_file:\n",
    "    with open(\"/Users/bigyoyo/Downloads/log.csv\", \"r\") as in_file:\n",
    "        i = 0\n",
    "        for line in in_file:\n",
    "            if m.findall(line) != []:\n",
    "                for item in m.findall(line):\n",
    "                    out_file.write(\"%s\\n\" % item)"
   ]
  }
